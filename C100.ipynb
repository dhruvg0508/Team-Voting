{
  "nbformat": 4,
  "nbformat_minor": 0,
  "metadata": {
    "colab": {
      "provenance": [],
      "authorship_tag": "ABX9TyPyJQT0diy2wwIqPaLtqqx5",
      "include_colab_link": true
    },
    "kernelspec": {
      "name": "python3",
      "display_name": "Python 3"
    },
    "language_info": {
      "name": "python"
    }
  },
  "cells": [
    {
      "cell_type": "markdown",
      "metadata": {
        "id": "view-in-github",
        "colab_type": "text"
      },
      "source": [
        "<a href=\"https://colab.research.google.com/github/dhruvg0508/Team-Voting/blob/main/C100.ipynb\" target=\"_parent\"><img src=\"https://colab.research.google.com/assets/colab-badge.svg\" alt=\"Open In Colab\"/></a>"
      ]
    },
    {
      "cell_type": "code",
      "execution_count": 10,
      "metadata": {
        "colab": {
          "base_uri": "https://localhost:8080/"
        },
        "id": "ShHkuwZ5vE-a",
        "outputId": "46d46b7e-c902-4362-e21b-d63024775340"
      },
      "outputs": [
        {
          "output_type": "stream",
          "name": "stdout",
          "text": [
            "1234567890\n"
          ]
        }
      ],
      "source": [
        "person = {\n",
        "    \"name\":\"Dhruv\",\n",
        "    \"email\":\"abc@gmail.com\",\n",
        "    \"address\":\"123 eton street\",\n",
        "    \"mobile_number\":1234567890\n",
        "\n",
        "}\n",
        "type(person)\n",
        "#print(person)\n",
        "print(person['mobile_number'])"
      ]
    },
    {
      "cell_type": "code",
      "source": [
        "class Contact_Details:\n",
        "  def __init__(self,name,email,address,mobile_number):\n",
        "    self.contact_name = name\n",
        "    self.contact_number = mobile_number\n",
        "    self.email = email\n",
        "    self.contact_address = address\n",
        "\n",
        "    self.person = {\n",
        "        \"name\":self.contact_name,\n",
        "        \"email\":self.email,\n",
        "        \"address\": self.contact_address,\n",
        "        \"mobile_number\":self.contact_number\n",
        "    }\n",
        "  def view_contact_details(self,contact_list):\n",
        "    print(contact_list)\n",
        "  def add_contact_details(self,contact_list):\n",
        "    contact_list.append(self.person)\n",
        "new_contact = Contact_Details('abc','123@gmail.com','123 eton street',1234567890)\n",
        "print(new_contact)"
      ],
      "metadata": {
        "colab": {
          "base_uri": "https://localhost:8080/"
        },
        "id": "3ygt-ONox_SW",
        "outputId": "db761f79-9e89-4fc2-f5b3-b00b234048c8"
      },
      "execution_count": 16,
      "outputs": [
        {
          "output_type": "stream",
          "name": "stdout",
          "text": [
            "<__main__.Contact_Details object at 0x7b8b674c27d0>\n"
          ]
        }
      ]
    },
    {
      "cell_type": "code",
      "source": [
        "phonebook_list = []\n",
        "new_contact = Contact_Details('abc','123@gmail.com','123 eton street',1234567890)\n",
        "new_contact.add_contact_details(phonebook_list)\n",
        "new_contact.view_contact_details(phonebook_list)"
      ],
      "metadata": {
        "colab": {
          "base_uri": "https://localhost:8080/"
        },
        "id": "C4IdFtmt0SNh",
        "outputId": "651112b8-8e39-44ea-dd2a-21831a283a48"
      },
      "execution_count": 18,
      "outputs": [
        {
          "output_type": "stream",
          "name": "stdout",
          "text": [
            "[{'name': 'abc', 'email': '123@gmail.com', 'address': '123 eton street', 'mobile_number': 1234567890}]\n"
          ]
        }
      ]
    },
    {
      "cell_type": "code",
      "source": [
        "new_contact = Contact_Details('cba','321@gmail.com','321 eton street',987654321)\n",
        "new_contact.add_contact_details(phonebook_list)\n",
        "new_contact.view_contact_details(phonebook_list)"
      ],
      "metadata": {
        "colab": {
          "base_uri": "https://localhost:8080/"
        },
        "id": "LGGCwRzj0rQk",
        "outputId": "a04b7b9c-bb38-4622-a7a0-5059112629f0"
      },
      "execution_count": 20,
      "outputs": [
        {
          "output_type": "stream",
          "name": "stdout",
          "text": [
            "[{'name': 'abc', 'email': '123@gmail.com', 'address': '123 eton street', 'mobile_number': 1234567890}, {'name': 'cba', 'email': '321@gmail.com', 'address': '321 eton street', 'mobile_number': 987654321}]\n"
          ]
        }
      ]
    },
    {
      "cell_type": "code",
      "source": [
        "new_contact = Contact_Details('abcde','12345@gmail.com','123456 eton street',987654321324982374)\n",
        "new_contact.add_contact_details(phonebook_list)\n",
        "new_contact.view_contact_details(phonebook_list)"
      ],
      "metadata": {
        "colab": {
          "base_uri": "https://localhost:8080/"
        },
        "id": "WqDwtCKYyD_7",
        "outputId": "568a4b82-6866-493a-d172-2c2a1c681953"
      },
      "execution_count": 21,
      "outputs": [
        {
          "output_type": "stream",
          "name": "stdout",
          "text": [
            "[{'name': 'abc', 'email': '123@gmail.com', 'address': '123 eton street', 'mobile_number': 1234567890}, {'name': 'cba', 'email': '321@gmail.com', 'address': '321 eton street', 'mobile_number': 987654321}, {'name': 'abcde', 'email': '12345@gmail.com', 'address': '123456 eton street', 'mobile_number': 987654321324982374}]\n"
          ]
        }
      ]
    },
    {
      "cell_type": "code",
      "source": [
        "new_contact = Contact_Details('abcdefg','1234567@gmail.com','12345678 eton street',9876543213249823743298472332423423)\n",
        "new_contact.add_contact_details(phonebook_list)\n",
        "new_contact.view_contact_details(phonebook_list)"
      ],
      "metadata": {
        "colab": {
          "base_uri": "https://localhost:8080/"
        },
        "id": "piVssAb61BDP",
        "outputId": "bc6e7d6f-8008-4746-a199-a57433df176d"
      },
      "execution_count": 22,
      "outputs": [
        {
          "output_type": "stream",
          "name": "stdout",
          "text": [
            "[{'name': 'abc', 'email': '123@gmail.com', 'address': '123 eton street', 'mobile_number': 1234567890}, {'name': 'cba', 'email': '321@gmail.com', 'address': '321 eton street', 'mobile_number': 987654321}, {'name': 'abcde', 'email': '12345@gmail.com', 'address': '123456 eton street', 'mobile_number': 987654321324982374}, {'name': 'abcdefg', 'email': '1234567@gmail.com', 'address': '12345678 eton street', 'mobile_number': 9876543213249823743298472332423423}]\n"
          ]
        }
      ]
    },
    {
      "cell_type": "code",
      "source": [
        "new_contact = Contact_Details('abcdefghijk','123456789@gmail.com','1234567890 eton street',98765432132498237432984723324232394692346892364928368293423)\n",
        "new_contact.add_contact_details(phonebook_list)\n",
        "new_contact.view_contact_details(phonebook_list)"
      ],
      "metadata": {
        "colab": {
          "base_uri": "https://localhost:8080/"
        },
        "id": "Hs22POlp1HEs",
        "outputId": "39f1f340-2384-46e8-ff32-b6a4fad939c0"
      },
      "execution_count": 23,
      "outputs": [
        {
          "output_type": "stream",
          "name": "stdout",
          "text": [
            "[{'name': 'abc', 'email': '123@gmail.com', 'address': '123 eton street', 'mobile_number': 1234567890}, {'name': 'cba', 'email': '321@gmail.com', 'address': '321 eton street', 'mobile_number': 987654321}, {'name': 'abcde', 'email': '12345@gmail.com', 'address': '123456 eton street', 'mobile_number': 987654321324982374}, {'name': 'abcdefg', 'email': '1234567@gmail.com', 'address': '12345678 eton street', 'mobile_number': 9876543213249823743298472332423423}, {'name': 'abcdefghijk', 'email': '123456789@gmail.com', 'address': '1234567890 eton street', 'mobile_number': 98765432132498237432984723324232394692346892364928368293423}]\n"
          ]
        }
      ]
    }
  ]
}